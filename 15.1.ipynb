{
 "cells": [
  {
   "cell_type": "code",
   "execution_count": 14,
   "id": "e34ae5a9-1b83-41a7-9809-ae196b3884f1",
   "metadata": {},
   "outputs": [
    {
     "name": "stdout",
     "output_type": "stream",
     "text": [
      "Process Process-3 at 2024-09-29 16:41:18.544241\n",
      "Process Process-2 at 2024-09-29 16:41:18.754615\n",
      "Process Process-1 at 2024-09-29 16:41:19.049542\n"
     ]
    }
   ],
   "source": [
    "import multiprocessing\n",
    "import time\n",
    "import random\n",
    "from datetime import datetime\n",
    "\n",
    "def print_time():\n",
    "    wait_time = random.uniform(0, 1)\n",
    "    time.sleep(wait_time)\n",
    "    print(f\"Process {multiprocessing.current_process().name} at {datetime.now()}\")\n",
    "\n",
    "if __name__ == \"__main__\":\n",
    "    # Ensure 'fork' method for macOS\n",
    "    try:\n",
    "        multiprocessing.set_start_method('fork', force=True)\n",
    "    except RuntimeError:\n",
    "        pass\n",
    "\n",
    "    processes = []\n",
    "\n",
    "    for i in range(3):\n",
    "        process = multiprocessing.Process(target=print_time, name=f\"Process-{i+1}\")\n",
    "        processes.append(process)\n",
    "        process.start()\n",
    "\n",
    "    for process in processes:\n",
    "        process.join()"
   ]
  },
  {
   "cell_type": "code",
   "execution_count": null,
   "id": "b1060512-d015-4569-b370-81d066720c9d",
   "metadata": {},
   "outputs": [],
   "source": []
  }
 ],
 "metadata": {
  "kernelspec": {
   "display_name": "Python 3 (ipykernel)",
   "language": "python",
   "name": "python3"
  },
  "language_info": {
   "codemirror_mode": {
    "name": "ipython",
    "version": 3
   },
   "file_extension": ".py",
   "mimetype": "text/x-python",
   "name": "python",
   "nbconvert_exporter": "python",
   "pygments_lexer": "ipython3",
   "version": "3.12.4"
  }
 },
 "nbformat": 4,
 "nbformat_minor": 5
}
